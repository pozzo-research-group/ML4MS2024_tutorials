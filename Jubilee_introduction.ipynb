{
 "cells": [
  {
   "cell_type": "markdown",
   "id": "b8c8e47f-5df5-43ea-b672-df773c6d7f93",
   "metadata": {},
   "source": [
    "# Introduction to operation of Jubilee"
   ]
  },
  {
   "cell_type": "markdown",
   "id": "ed5ea71a-90f8-4a74-88dc-21ca64e37dbd",
   "metadata": {},
   "source": [
    "## 1. Set up experimental layout"
   ]
  },
  {
   "cell_type": "code",
   "execution_count": null,
   "id": "b4d41703-d957-4d55-8df8-2c59f6aa6a6e",
   "metadata": {},
   "outputs": [],
   "source": []
  },
  {
   "cell_type": "markdown",
   "id": "56aa4dfc-c488-415e-a7cb-bd1cd4899b36",
   "metadata": {},
   "source": [
    "## 2. Pick up pipette\n"
   ]
  },
  {
   "cell_type": "code",
   "execution_count": null,
   "id": "e45a61a7-552d-4b09-9b8d-7f6f800da3ff",
   "metadata": {},
   "outputs": [],
   "source": []
  },
  {
   "cell_type": "markdown",
   "id": "8f765a83-2d3e-41bf-bbbb-02a78117a0df",
   "metadata": {},
   "source": [
    "## 3. Move pipette to a well"
   ]
  },
  {
   "cell_type": "code",
   "execution_count": null,
   "id": "425cc937-980e-4d17-9452-3cf89e66c404",
   "metadata": {},
   "outputs": [],
   "source": []
  },
  {
   "cell_type": "markdown",
   "id": "659c43fa-e6e2-4d6b-8073-683b2dad95a0",
   "metadata": {},
   "source": [
    "## 4. Aspirate liquid"
   ]
  },
  {
   "cell_type": "code",
   "execution_count": null,
   "id": "d37d6c13-7b69-4a2f-b887-47954dc6e867",
   "metadata": {},
   "outputs": [],
   "source": []
  },
  {
   "cell_type": "markdown",
   "id": "6ccf67c1-ca2d-47b1-b7e7-bbe9ace9593f",
   "metadata": {},
   "source": [
    "## 5. Move to a well and dispense "
   ]
  },
  {
   "cell_type": "code",
   "execution_count": null,
   "id": "138bbcc6-0e05-4276-ad7d-e54c2ab2dca8",
   "metadata": {},
   "outputs": [],
   "source": []
  },
  {
   "cell_type": "markdown",
   "id": "11d287a4-ba9c-469c-a69b-2e02996e876e",
   "metadata": {},
   "source": [
    "## 6. Use transfer() to move another stock and mix"
   ]
  },
  {
   "cell_type": "code",
   "execution_count": null,
   "id": "f3b359d0-829d-4a2e-82ff-ff170bdbdf66",
   "metadata": {},
   "outputs": [],
   "source": []
  },
  {
   "cell_type": "markdown",
   "id": "5c80bee8-7e04-4dca-a1c6-758ff2475d42",
   "metadata": {},
   "source": [
    "## 7. Pick up a camera, and take a picture "
   ]
  },
  {
   "cell_type": "code",
   "execution_count": null,
   "id": "6f18148b-de1c-48c0-a232-8d6e20c7640f",
   "metadata": {},
   "outputs": [],
   "source": []
  },
  {
   "cell_type": "markdown",
   "id": "deb05649-402e-4f2b-9331-7dcbdef0cf39",
   "metadata": {},
   "source": [
    "## 8. build"
   ]
  }
 ],
 "metadata": {
  "kernelspec": {
   "display_name": "Python 3 (ipykernel)",
   "language": "python",
   "name": "python3"
  },
  "language_info": {
   "codemirror_mode": {
    "name": "ipython",
    "version": 3
   },
   "file_extension": ".py",
   "mimetype": "text/x-python",
   "name": "python",
   "nbconvert_exporter": "python",
   "pygments_lexer": "ipython3",
   "version": "3.9.18"
  }
 },
 "nbformat": 4,
 "nbformat_minor": 5
}
