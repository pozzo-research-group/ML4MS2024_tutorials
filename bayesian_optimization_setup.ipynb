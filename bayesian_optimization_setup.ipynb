{
 "cells": [
  {
   "cell_type": "markdown",
   "id": "575a8116-2a9c-4bfe-8950-8a33e2e01951",
   "metadata": {},
   "source": [
    "## Intro"
   ]
  },
  {
   "cell_type": "code",
   "execution_count": null,
   "id": "ec49f26b-b11b-48a3-865f-2ef5eea922da",
   "metadata": {},
   "outputs": [],
   "source": []
  },
  {
   "cell_type": "markdown",
   "id": "2054f046-921d-4c1d-9857-996558bd25c3",
   "metadata": {},
   "source": [
    "## 1. Define Obective"
   ]
  },
  {
   "cell_type": "code",
   "execution_count": null,
   "id": "4846baf7-70d7-4569-98a6-df02cda7c4b4",
   "metadata": {},
   "outputs": [],
   "source": []
  },
  {
   "cell_type": "markdown",
   "id": "946a1d56-a02a-4d27-b251-e67559bc80d5",
   "metadata": {},
   "source": [
    "## 2. Select Parameter Space"
   ]
  },
  {
   "cell_type": "code",
   "execution_count": null,
   "id": "d6f041d9-db04-4329-bac0-588bf71c0fc6",
   "metadata": {},
   "outputs": [],
   "source": []
  },
  {
   "cell_type": "markdown",
   "id": "43bf0e7a-c285-46fa-bcb6-9dd5190b6f67",
   "metadata": {},
   "source": [
    "## 3. Set up 'experiment' execution\n",
    "\n",
    "Here, we will use a color mixing library to virtually execute our experiment. Next we will do this with Jubilee\n"
   ]
  },
  {
   "cell_type": "code",
   "execution_count": null,
   "id": "2675c1d4-78fd-4029-867c-80da3712ed8d",
   "metadata": {},
   "outputs": [],
   "source": []
  },
  {
   "cell_type": "markdown",
   "id": "cc635174-7443-4c41-93f7-7eca0dc9ef33",
   "metadata": {},
   "source": [
    "## 4. Set up bayesian optimization 'model'"
   ]
  },
  {
   "cell_type": "code",
   "execution_count": null,
   "id": "073fe6fa-c9bf-4ba7-90f9-a15c89a6aa17",
   "metadata": {},
   "outputs": [],
   "source": []
  },
  {
   "cell_type": "markdown",
   "id": "1477134d-62ca-426b-b526-15322ce0a164",
   "metadata": {},
   "source": [
    "## 5. Collect random initial data"
   ]
  },
  {
   "cell_type": "code",
   "execution_count": null,
   "id": "a2ffa958-0d1a-427f-8fc3-a84c0f36a426",
   "metadata": {},
   "outputs": [],
   "source": []
  },
  {
   "cell_type": "markdown",
   "id": "f89aac50-881c-43a3-81b8-7103c38caf98",
   "metadata": {},
   "source": [
    "## 6. Run bayesian optimization to optimize 'samples'"
   ]
  },
  {
   "cell_type": "code",
   "execution_count": null,
   "id": "80de8471-1615-4479-ba3f-02cb851ac2b7",
   "metadata": {},
   "outputs": [],
   "source": []
  }
 ],
 "metadata": {
  "kernelspec": {
   "display_name": "Python 3 (ipykernel)",
   "language": "python",
   "name": "python3"
  },
  "language_info": {
   "codemirror_mode": {
    "name": "ipython",
    "version": 3
   },
   "file_extension": ".py",
   "mimetype": "text/x-python",
   "name": "python",
   "nbconvert_exporter": "python",
   "pygments_lexer": "ipython3",
   "version": "3.9.18"
  }
 },
 "nbformat": 4,
 "nbformat_minor": 5
}
