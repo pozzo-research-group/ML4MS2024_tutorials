{
 "cells": [
  {
   "cell_type": "code",
   "execution_count": 1,
   "id": "e9d82f13-c79e-4eba-a7cb-6762339e0990",
   "metadata": {},
   "outputs": [],
   "source": [
    "%load_ext autoreload\n",
    "%autoreload 2"
   ]
  },
  {
   "cell_type": "code",
   "execution_count": 28,
   "id": "abea2688-0971-4233-b7e9-c12bf8811c27",
   "metadata": {},
   "outputs": [],
   "source": [
    "import numpy as np\n",
    "import ipywidgets as widgets\n",
    "import mixbox\n",
    "from bo_serving.botorch_serving import botorch_optimizer\n",
    "import matplotlib.pyplot as plt"
   ]
  },
  {
   "cell_type": "markdown",
   "id": "575a8116-2a9c-4bfe-8950-8a33e2e01951",
   "metadata": {},
   "source": [
    "## Intro"
   ]
  },
  {
   "cell_type": "markdown",
   "id": "e44b4fbf-40ce-4aad-82a7-176948af06e3",
   "metadata": {},
   "source": [
    "Goal: Set up the bayesian optimization 'backend' for the color mixing experiment, and test it with simulated color mixing"
   ]
  },
  {
   "cell_type": "markdown",
   "id": "2054f046-921d-4c1d-9857-996558bd25c3",
   "metadata": {},
   "source": [
    "## 1. Define Obective"
   ]
  },
  {
   "cell_type": "markdown",
   "id": "5f40d8ef-832e-4cdc-9d3a-c6f9855c5efa",
   "metadata": {},
   "source": [
    "The objective of this experiment is to replicate a specific but arbitrary color. To define this objective, pick a color. We will work in the RGB color space for all bayesian optimization components. (note the Jubilee experiment will run with real paints). "
   ]
  },
  {
   "cell_type": "markdown",
   "id": "8f2c79cb-6cf6-4b04-a35f-8bb013b40919",
   "metadata": {},
   "source": [
    "This code lets us use the system's graphical color picker tool to select a color. Alternatively, we could just enter an RGB value"
   ]
  },
  {
   "cell_type": "code",
   "execution_count": 4,
   "id": "4846baf7-70d7-4569-98a6-df02cda7c4b4",
   "metadata": {},
   "outputs": [],
   "source": [
    "def select_a_color():\n",
    "    def pick_a_color():\n",
    "        color_picker = widgets.ColorPicker(\n",
    "            concise=False,\n",
    "            description='Pick a color',\n",
    "            value='blue',\n",
    "            disabled=False\n",
    "        )\n",
    "        return color_picker\n",
    "    \n",
    "    color_picker = pick_a_color()\n",
    "    target_rgb_output = []\n",
    "    \n",
    "    def on_color_change(change):\n",
    "        hexcode = change['new']\n",
    "        target_rgb = tuple(int(hexcode.lstrip('#')[i:i+2], 16) for i in (0, 2, 4))\n",
    "        target_rgb_output.clear()\n",
    "        target_rgb_output.extend(target_rgb)\n",
    "    color_picker.observe(on_color_change, names='value')\n",
    "    \n",
    "    display(color_picker)\n",
    "\n",
    "    return target_rgb_output"
   ]
  },
  {
   "cell_type": "code",
   "execution_count": 5,
   "id": "470755c1-c986-4312-98c3-86477b7afc2e",
   "metadata": {},
   "outputs": [
    {
     "data": {
      "application/vnd.jupyter.widget-view+json": {
       "model_id": "5af27ce1a20648aaaa92600b1d012bdb",
       "version_major": 2,
       "version_minor": 0
      },
      "text/plain": [
       "ColorPicker(value='blue', description='Pick a color')"
      ]
     },
     "metadata": {},
     "output_type": "display_data"
    }
   ],
   "source": [
    "target_color = select_a_color()"
   ]
  },
  {
   "cell_type": "markdown",
   "id": "1ec4e972-8f0b-4b84-a256-d143b7821d31",
   "metadata": {},
   "source": [
    "## 2. Define a performance scoring function\n",
    "\n",
    "Here, we will use euclidean distance between the measured outcome and the target color in RGB space. "
   ]
  },
  {
   "cell_type": "code",
   "execution_count": 6,
   "id": "1bcf1b90-ce6f-4a89-a00b-b9757d57acc3",
   "metadata": {},
   "outputs": [],
   "source": [
    "def calculate_color_score(target_color, observed_color):\n",
    "    distance = [np.abs(target_color[i] - observed_color[i]) for i in range(len(target_color))]\n",
    "    score = np.linalg.norm(distance)\n",
    "\n",
    "    return score"
   ]
  },
  {
   "cell_type": "markdown",
   "id": "946a1d56-a02a-4d27-b251-e67559bc80d5",
   "metadata": {},
   "source": [
    "## 2. Select Parameter Space"
   ]
  },
  {
   "cell_type": "markdown",
   "id": "4be18b5a-b800-4cfa-a420-db6fec16c069",
   "metadata": {},
   "source": [
    "Now choose the colors that are available as base colors for mixing. We are using a color mixing theory for paints, so an a-priori reasonable selection would be red, yellow, blue, black, and white. However, we can choose this parameter space however we want. \n",
    "\n",
    "Our bayesian optimization campaign will select the ratios of each color to mix. The output of the bayesian optimizer will be a list of volume fractions. Each color can have a volume fraction between 0 and 1. Theoretically we might want to place independent volume fractions on each color, but we will skip that for simplicity. "
   ]
  },
  {
   "cell_type": "code",
   "execution_count": 8,
   "id": "d6f041d9-db04-4329-bac0-588bf71c0fc6",
   "metadata": {},
   "outputs": [
    {
     "data": {
      "application/vnd.jupyter.widget-view+json": {
       "model_id": "338128e46e04470e94323b86b9ebcb58",
       "version_major": 2,
       "version_minor": 0
      },
      "text/plain": [
       "ColorPicker(value='blue', description='Pick a color')"
      ]
     },
     "metadata": {},
     "output_type": "display_data"
    },
    {
     "data": {
      "application/vnd.jupyter.widget-view+json": {
       "model_id": "ccee7e0cea144d3d8fc6a6460a1f6736",
       "version_major": 2,
       "version_minor": 0
      },
      "text/plain": [
       "ColorPicker(value='blue', description='Pick a color')"
      ]
     },
     "metadata": {},
     "output_type": "display_data"
    },
    {
     "data": {
      "application/vnd.jupyter.widget-view+json": {
       "model_id": "29fb7d5e7ebc40338fd4f6c4998e7bf6",
       "version_major": 2,
       "version_minor": 0
      },
      "text/plain": [
       "ColorPicker(value='blue', description='Pick a color')"
      ]
     },
     "metadata": {},
     "output_type": "display_data"
    },
    {
     "data": {
      "application/vnd.jupyter.widget-view+json": {
       "model_id": "919adba7cd304540984c834a8fdccb96",
       "version_major": 2,
       "version_minor": 0
      },
      "text/plain": [
       "ColorPicker(value='blue', description='Pick a color')"
      ]
     },
     "metadata": {},
     "output_type": "display_data"
    },
    {
     "data": {
      "application/vnd.jupyter.widget-view+json": {
       "model_id": "b550bee2f73041d7a82b7fa30932f74a",
       "version_major": 2,
       "version_minor": 0
      },
      "text/plain": [
       "ColorPicker(value='blue', description='Pick a color')"
      ]
     },
     "metadata": {},
     "output_type": "display_data"
    }
   ],
   "source": [
    "base_color_1 = select_a_color()\n",
    "base_color_2 = select_a_color()\n",
    "base_color_3 = select_a_color()\n",
    "base_color_4 = select_a_color()\n",
    "base_color_5 = select_a_color()"
   ]
  },
  {
   "cell_type": "code",
   "execution_count": 9,
   "id": "e58a6d4b-8a75-4c62-90a7-3fc3fc664554",
   "metadata": {},
   "outputs": [],
   "source": [
    "stock_colors = [base_color_1, base_color_2, base_color_3, base_color_4, base_color_5]"
   ]
  },
  {
   "cell_type": "markdown",
   "id": "43bf0e7a-c285-46fa-bcb6-9dd5190b6f67",
   "metadata": {},
   "source": [
    "## 3. Set up 'experiment' execution\n",
    "\n",
    "Here, we will use a color mixing library to virtually execute our experiment. Next we will do this with Jubilee\n"
   ]
  },
  {
   "cell_type": "code",
   "execution_count": 10,
   "id": "2675c1d4-78fd-4029-867c-80da3712ed8d",
   "metadata": {},
   "outputs": [],
   "source": [
    "class ColorMixExperiment:\n",
    "\n",
    "    def __init__(self, colors):\n",
    "        \"\"\"\"\n",
    "        Class to simulate a color mixing experiment\n",
    "\n",
    "        :param colors: List of tuples of RGB values that are available as the stock colors for mixing\n",
    "        :type colors: list\n",
    "        \"\"\"\n",
    "\n",
    "        self.colors = colors\n",
    "\n",
    "    def run_experiment(self, weights):\n",
    "        \"\"\"\n",
    "        Mix colors using the mixbox package.\n",
    "        \n",
    "        Args:\n",
    "        - colors: List of RGB tuples representing the colors to mix.\n",
    "        - weights: List of weights corresponding to each color.\n",
    "        \n",
    "        Returns:\n",
    "        - Tuple containing the mixed color in RGB space.\n",
    "        \"\"\"\n",
    "        colors = [mixbox.rgb_to_latent(color) for color in self.colors]\n",
    "        mixed_colors = [0]*mixbox.LATENT_SIZE\n",
    "    \n",
    "        for color, weight in zip(colors, weights):\n",
    "            for i in range(mixbox.LATENT_SIZE):\n",
    "                mixed_colors[i] += color[i] * weight\n",
    "        \n",
    "        mixed_rgb = mixbox.latent_to_rgb(mixed_colors)\n",
    "    \n",
    "        return mixed_rgb"
   ]
  },
  {
   "cell_type": "code",
   "execution_count": 11,
   "id": "f0442890-8c37-4758-bebd-659ca0edd338",
   "metadata": {},
   "outputs": [],
   "source": [
    "experiment_executor = ColorMixExperiment(stock_colors)"
   ]
  },
  {
   "cell_type": "markdown",
   "id": "cc635174-7443-4c41-93f7-7eca0dc9ef33",
   "metadata": {},
   "source": [
    "## 4. Set up bayesian optimization 'model'"
   ]
  },
  {
   "cell_type": "markdown",
   "id": "eee1ad6e-38e9-4442-b136-b67b4d02751f",
   "metadata": {},
   "source": [
    "We will be using an existing BO implementation that uses the BoTorch library. There are lots of good options for bayesian optimization depending on how in-the-weeds you want to be. \n",
    "\n",
    "Things to consider when implementing Bayesian optimization:\n",
    "- Parameter space: Continuous (ex. concentration) vs discrete (ex. chemical identity of component) vs. mixed (both in same experiment). Complex parameter spaces can have lots of gotchas and might make using a higher-level library worth it\n",
    "- Surrogate model: The machine learning model that makes predictions about the performance of the parameter space based on the observed experiments. Default choice is usually Gaussian Process Regression\n",
    "- For GPR model: Kernel/covariance function. Defines a measure of distance between points in parameter space. Many kernels have parameters to select as well\n",
    "- Acquisition function: This 'interprets' the surrogate model predictions to determine the next points to sample. Usually framed as an 'explore vs. exploit' tradeoff. Many have additional parameters to select\n",
    "\n",
    "Here, we will be using a fairly standard configuration: \n",
    "- Single-task gaussian process regression as surrogate model\n",
    "- Matern kernel with $\\nu = 5/2$ (common selection in materials work)\n",
    "- Log expected improvement acquisition function (Botorch reccomended starting point)\n",
    "\n",
    "These selections are all made behind the scenes in BoTorchOptimizer code."
   ]
  },
  {
   "cell_type": "code",
   "execution_count": 18,
   "id": "b9e877ed-380e-42f6-a2e2-433313de00d6",
   "metadata": {},
   "outputs": [],
   "source": [
    "bounds = [(0,1.0)]*len(stock_colors)\n",
    "n_dims_x = len(stock_colors)\n",
    "batch_size = 1\n",
    "n_random_trials = 5\n",
    "n_bo_trials = 12\n",
    "unique_id = 42\n",
    "task = 'minimize'\n",
    "\n",
    "BoTorchOptimizer = botorch_optimizer.BoTorchOptimizer(bounds, n_dims_x, batch_size, n_random_trials, n_bo_trials, unique_id, task)"
   ]
  },
  {
   "cell_type": "markdown",
   "id": "1477134d-62ca-426b-b526-15322ce0a164",
   "metadata": {},
   "source": [
    "## 5. Collect random initial data"
   ]
  },
  {
   "cell_type": "markdown",
   "id": "5791a327-40cd-4d8d-88c4-25f588dcd104",
   "metadata": {},
   "source": [
    "This is handled for us by the BoTorchOptimizer class. We will break it out separatley here for posterity. "
   ]
  },
  {
   "cell_type": "code",
   "execution_count": 20,
   "id": "1a54e54d-8b40-441e-aeb7-5ddce6c020f1",
   "metadata": {},
   "outputs": [
    {
     "name": "stdout",
     "output_type": "stream",
     "text": [
      "Getting trial 1\n",
      "shuffled array\n",
      "New parameterization generated with random sampling\n",
      "Running \"experiment\"\n",
      "Calculating color score\n",
      "Initializing model\n",
      "Getting trial 2\n",
      "shuffled array\n",
      "New parameterization generated with random sampling\n",
      "Running \"experiment\"\n",
      "Calculating color score\n",
      "Initializing model\n",
      "Getting trial 3\n",
      "shuffled array\n",
      "New parameterization generated with random sampling\n",
      "Running \"experiment\"\n",
      "Calculating color score\n",
      "Initializing model\n",
      "Getting trial 4\n",
      "shuffled array\n",
      "New parameterization generated with random sampling\n",
      "Running \"experiment\"\n",
      "Calculating color score\n",
      "Initializing model\n"
     ]
    },
    {
     "name": "stderr",
     "output_type": "stream",
     "text": [
      "/home/brendenpelkie/miniconda3/envs/jubilee/lib/python3.9/site-packages/botorch/models/transforms/outcome.py:304: UserWarning: std(): degrees of freedom is <= 0. Correction should be strictly less than the reduction factor (input numel divided by output numel). (Triggered internally at ../aten/src/ATen/native/ReduceOps.cpp:1807.)\n",
      "  stdvs = Y.std(dim=-2, keepdim=True)\n",
      "/home/brendenpelkie/miniconda3/envs/jubilee/lib/python3.9/site-packages/botorch/models/utils/assorted.py:194: UserWarning: std(): degrees of freedom is <= 0. Correction should be strictly less than the reduction factor (input numel divided by output numel). (Triggered internally at ../aten/src/ATen/native/ReduceOps.cpp:1807.)\n",
      "  Ymean, Ystd = torch.mean(Y, dim=-2), torch.std(Y, dim=-2)\n"
     ]
    },
    {
     "name": "stdout",
     "output_type": "stream",
     "text": [
      "Getting trial 5\n",
      "shuffled array\n",
      "New parameterization generated with random sampling\n",
      "Running \"experiment\"\n",
      "Calculating color score\n",
      "Initializing model\n"
     ]
    }
   ],
   "source": [
    "observed_colors = []\n",
    "\n",
    "for i in range(n_random_trials):\n",
    "    print(f'Getting trial {i+1}')\n",
    "    experiment_point, trial_index = BoTorchOptimizer.get_next_trial()\n",
    "    #BotorchOptimizer returns a dictionary:\n",
    "    experiment_point = list(experiment_point.values())\n",
    "    print('Running \"experiment\"')\n",
    "    mixed_result = experiment_executor.run_experiment(experiment_point)\n",
    "    observed_colors.append(mixed_result)\n",
    "    print('Calculating color score')\n",
    "    score = calculate_color_score(target_color, mixed_result)\n",
    "    BoTorchOptimizer.update(trial_index, score)\n",
    "    \n",
    "    "
   ]
  },
  {
   "cell_type": "markdown",
   "id": "f89aac50-881c-43a3-81b8-7103c38caf98",
   "metadata": {},
   "source": [
    "## 6. Run bayesian optimization to optimize 'samples'"
   ]
  },
  {
   "cell_type": "code",
   "execution_count": null,
   "id": "189a88da-09bf-4bd5-9cf1-593868f1909e",
   "metadata": {},
   "outputs": [],
   "source": [
    "for i in range(n_bo_trials):\n",
    "    print(f'Getting trial {n_random_trials+i+1}')\n",
    "    experiment_point, trial_index = BoTorchOptimizer.get_next_trial()\n",
    "    #BotorchOptimizer returns a dictionary:\n",
    "    experiment_point = list(experiment_point.values())\n",
    "    print('Running \"experiment\"')\n",
    "    mixed_result = experiment_executor.run_experiment(experiment_point)\n",
    "    observed_colors.append(mixed_result)\n",
    "    print('Calculating color score')\n",
    "    score = calculate_color_score(target_color, mixed_result)\n",
    "    BoTorchOptimizer.update(trial_index, score)\n",
    "    #visualize(observed_colors, BoTorchOptimizer)\n",
    "    "
   ]
  },
  {
   "cell_type": "markdown",
   "id": "08b41433-c57b-4104-b87a-eb84c218f012",
   "metadata": {},
   "source": [
    "## 8. Look at results:"
   ]
  },
  {
   "cell_type": "code",
   "execution_count": 32,
   "id": "b1513326-9eba-46c4-9d19-0f2666f8c7ea",
   "metadata": {},
   "outputs": [
    {
     "data": {
      "text/plain": [
       "Text(0, 0.5, 'Loss value')"
      ]
     },
     "execution_count": 32,
     "metadata": {},
     "output_type": "execute_result"
    },
    {
     "data": {
      "image/png": "[encoded data removed]",
      "text/plain": [
       "<Figure size 640x480 with 1 Axes>"
      ]
     },
     "metadata": {},
     "output_type": "display_data"
    }
   ],
   "source": [
    "# get data in the right form for plotting\n",
    "norm_colors = [[c/255 for c in rgb] for rgb in observed_colors]\n",
    "loss_vals = BoTorchOptimizer.ExperimentData.get_data()[1].numpy()\n",
    "\n",
    "fig, ax = plt.subplots()\n",
    "\n",
    "# plot and update \n",
    "ax.scatter(range(len(loss_vals)), loss_vals, marker = 'o', color = norm_colors, s = 200)\n",
    "ax.set_xlabel('Experiment iteration')\n",
    "ax.set_ylabel('Loss value')"
   ]
  },
  {
   "cell_type": "code",
   "execution_count": null,
   "id": "bc9f548d-383d-4490-b3b8-868eaf43014a",
   "metadata": {},
   "outputs": [],
   "source": []
  }
 ],
 "metadata": {
  "kernelspec": {
   "display_name": "Python 3 (ipykernel)",
   "language": "python",
   "name": "python3"
  },
  "language_info": {
   "codemirror_mode": {
    "name": "ipython",
    "version": 3
   },
   "file_extension": ".py",
   "mimetype": "text/x-python",
   "name": "python",
   "nbconvert_exporter": "python",
   "pygments_lexer": "ipython3",
   "version": "3.9.18"
  }
 },
 "nbformat": 4,
 "nbformat_minor": 5
}
